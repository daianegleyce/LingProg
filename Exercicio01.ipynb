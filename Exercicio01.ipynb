{
 "cells": [
  {
   "cell_type": "code",
   "execution_count": 1,
   "metadata": {},
   "outputs": [
    {
     "name": "stdout",
     "output_type": "stream",
     "text": [
      "digite o valor do raio: 12\n",
      "a area do circulo e: 452.39\n"
     ]
    }
   ],
   "source": [
    "#Faça um Programa que peça o raio de um círculo, calcule e mostre sua área. \n",
    "\n",
    "pi = 3.141592\n",
    "\n",
    "def main():  \n",
    "    raio = input(\"digite o valor do raio: \")\n",
    "    print \"a area do circulo e: %.2f\" % float(pi*(raio**2))\n",
    "\n",
    "if __name__ == \"__main__\":  \n",
    "    main()\n",
    "    \n",
    "    \n"
   ]
  },
  {
   "cell_type": "code",
   "execution_count": 3,
   "metadata": {},
   "outputs": [
    {
     "name": "stdout",
     "output_type": "stream",
     "text": [
      "Digite o tamanho do lado do quadrado: 10\n",
      "O dobro da area do quadrado eh: 200.00 \n"
     ]
    }
   ],
   "source": [
    "# Faça um Programa que calcule a área de um quadrado, em seguida mostre o dobro desta área para o usuário\n",
    "\n",
    "lado = raw_input(\"Digite o tamanho do lado do quadrado: \")\n",
    "\n",
    "area = float(lado) * float(lado)\n",
    "\n",
    "print(\"O dobro da area do quadrado eh: %.2f \" % float(area * 2))\n"
   ]
  },
  {
   "cell_type": "code",
   "execution_count": 7,
   "metadata": {},
   "outputs": [
    {
     "name": "stdout",
     "output_type": "stream",
     "text": [
      "Digite o quanto voce ganha por hora: 8.33\n",
      "Digite a quantidade de horas que voce trabalha por mes: 126\n",
      "Voce ganha R$ 1049.58 por mes\n"
     ]
    }
   ],
   "source": [
    "#Faça um Programa que pergunte quanto você ganha por hora e o número de horas trabalhadas no mês. \n",
    "#Calcule e mostre o total do seu salário no referido mês\n",
    "\n",
    "salario_hora = raw_input(\"Digite o quanto voce ganha por hora: \")\n",
    "horas_mensais = raw_input(\"Digite a quantidade de horas que voce trabalha por mes: \")\n",
    "\n",
    "salario = float(salario_hora) * float(horas_mensais)\n",
    "\n",
    "print(\"Voce ganha R$ %.2f por mes\" % salario)\n",
    "\n"
   ]
  },
  {
   "cell_type": "code",
   "execution_count": 10,
   "metadata": {},
   "outputs": [
    {
     "name": "stdout",
     "output_type": "stream",
     "text": [
      "Digite a temperatura em Farenheit: 77\n",
      "25.00 graus celsius\n"
     ]
    }
   ],
   "source": [
    "#Faça um Programa que peça a temperatura em graus Farenheit,\n",
    "#transforme e mostre a temperatura em graus Celsius. C = (5 * (F-32) / 9). \n",
    "\n",
    "\n",
    "farenheit = raw_input(\"Digite a temperatura em Farenheit: \")\n",
    "\n",
    "celsius = (5 * (float(farenheit) - 32) / 9)\n",
    "\n",
    "print(\"%.2f graus celsius\" % celsius)\n",
    "\n"
   ]
  },
  {
   "cell_type": "code",
   "execution_count": 13,
   "metadata": {},
   "outputs": [
    {
     "name": "stdout",
     "output_type": "stream",
     "text": [
      "Digite a temperatura em celsius: 32\n",
      "115.20 graus farenheit\n"
     ]
    }
   ],
   "source": [
    "#Faça um Programa que peça a temperatura em graus Celsius, transforme e mostre em graus Farenheit. \n",
    "\n",
    "celsius = raw_input(\"Digite a temperatura em celsius: \")\n",
    "\n",
    "farenheit = ((float(celsius) + 32) / 5) * 9\n",
    "\n",
    "print(\"%.2f graus farenheit\" % farenheit)\n",
    "\n"
   ]
  },
  {
   "cell_type": "code",
   "execution_count": 14,
   "metadata": {},
   "outputs": [
    {
     "name": "stdout",
     "output_type": "stream",
     "text": [
      "Digite o primeiro inteiro: 1\n",
      "Digite o segundo inteiro: 3\n",
      "Digite um numer real: 2.50\n",
      "Produto do dobro do primeiro com metade do segundo: 2\n",
      "Soma do triplo do primeiro com o terceiro: 5.50\n",
      "Numero real elevado ao cubo: 15.62\n"
     ]
    }
   ],
   "source": [
    "#Faça um Programa que peça 2 números inteiros e um número real. Calcule e mostre: \n",
    "#- o produto do dobro do primeiro com metade do segundo . \n",
    "#- a soma do triplo do primeiro com o terceiro.\n",
    "#- o terceiro elevado ao cubo. \n",
    "\n",
    "\n",
    "int1 = raw_input(\"Digite o primeiro inteiro: \")\n",
    "int2 = raw_input(\"Digite o segundo inteiro: \")\n",
    "real = raw_input(\"Digite um numero real: \")\n",
    "\n",
    "produto = (int(int1) * 2) * (int(int2) / 2)\n",
    "\n",
    "soma = (int(int1) * 3) + float(real)\n",
    "\n",
    "potencia = float(real)**3\n",
    "\n",
    "print(\"Produto do dobro do primeiro com metade do segundo: %d\" % produto)\n",
    "print(\"Soma do triplo do primeiro com o terceiro: %.2f\" % soma)\n",
    "print(\"Numero real elevado ao cubo: %.2f\" % potencia)"
   ]
  },
  {
   "cell_type": "code",
   "execution_count": 15,
   "metadata": {},
   "outputs": [
    {
     "name": "stdout",
     "output_type": "stream",
     "text": [
      "Digite o peso dos peixes: 51\n",
      "O valor da multa eh de R$ 4.00 \n"
     ]
    }
   ],
   "source": [
    "#João Papo-de-Pescador, homem de bem, comprou um microcomputador para controlar o rendimento diário de seu trabalho. \n",
    "#Toda vez que ele traz um peso de peixes maior que o estabelecido pelo regulamento de pesca do estado de São Paulo\n",
    "#(50 quilos) deve pagar uma multa de R$ 4,00 por quilo excedente. \n",
    "#João precisa que você faça um programa que leia a variável peso (peso de peixes) e verifique se há excesso. \n",
    "#Se houver, gravar na variável excesso e na variável multa o valor da multa que João deverá pagar. \n",
    "#Caso contrário mostrar tais variáveis com o conteúdo ZERO.\n",
    "\n",
    "\n",
    "LIMITE = 50\n",
    "MULTA = 4.0\n",
    "\n",
    "excesso = 0.0\n",
    "peso = raw_input(\"Digite o peso dos peixes: \")\n",
    "\n",
    "if float(peso) > LIMITE:\n",
    "    excesso = (float(peso) - LIMITE) * MULTA\n",
    "    print(\"O valor da multa eh de R$ %.2f \" % excesso)\n",
    "else:\n",
    "    excesso = 0\n",
    "    print(\"Excesso: %.2f\" % excesso)\n"
   ]
  },
  {
   "cell_type": "code",
   "execution_count": null,
   "metadata": {},
   "outputs": [],
   "source": [
    "#Faça um Programa que pergunte quanto você ganha por hora e o número de horas trabalhadas no mês. \n",
    "#Calcule e mostre o total do seu salário no referido mês, sabendo-se que são descontados 11% para o Imposto de Renda,\n",
    "#8% para o INSS e 5% para o sindicato, faça um programa que nos dê: - salário bruto. \n",
    "#    - quanto pagou ao INSS. - quanto pagou ao sindicato. \n",
    "#    - o salário líquido. \n",
    "#- calcule os descontos e o salário líquido, conforme a tabela abaixo:        \n",
    "#        + Salário Bruto : R$            \n",
    "#            - IR (11%) : R$           \n",
    "#                - INSS (8%) : R$           \n",
    "#                    - Sindicato ( 5%) : R$        \n",
    "#                        = Salário Liquido : R$ Obs.: Salário Bruto - Descontos = Salário Líquido. \n",
    "\n",
    "\n",
    "import math\n",
    "\n",
    "valor_hora = float(input (\"Digite o valor da hora trabalhada\"))\n",
    "qtd_horas = float(input (\"Digite a quantidade de horas trabalhadas\"))\n",
    "bruto = (valor_hora) * (qtd_horas)\n",
    "ir = bruto * 0.011\n",
    "inss = bruto * 0.008\n",
    "sind = bruto * 0.005\n",
    "desc = (ir)+ (inss) + (sind)\n",
    "lqd = (bruto - desc)\n",
    "print (f'Salário Bruto : R$ {bruto}')\n",
    "print (f'IR (11%) : R$ {ir}')\n",
    "print (f'INSS (8%) : R$ {inss}')\n",
    "print (f'Sindicato ( 5%) : R$ {sind}')\n",
    "print (f'Salário Liquido : R$ {lqd}')"
   ]
  },
  {
   "cell_type": "code",
   "execution_count": null,
   "metadata": {},
   "outputs": [],
   "source": [
    "# Faça um programa que leia 2 strings e informe o conteúdo delas seguido do seu comprimento. \n",
    "#Informe também se as duas strings possuem o mesmo comprimento e são iguais ou diferentes no conteúdo. \n",
    "#Exemplo: String 1: Brasil Hexa 2018 \n",
    "#        String 2: Brasil! Hexa 2018! Tamanho de \"Brasil Hexa 2018\": 16 caracteres Tamanho de \"Brasil! Hexa 2018!\": \n",
    "#       18 caracteres As duas strings são de tamanhos diferentes. As duas strings possuem conteúdo diferente. \n",
    "\n",
    "    \n"
   ]
  },
  {
   "cell_type": "code",
   "execution_count": null,
   "metadata": {},
   "outputs": [],
   "source": [
    "# Faça um programa que permita ao usuário digitar o seu nome e em seguida mostre o nome do usuário de trás para frente utilizando somente letras maiúsculas. Dica: lembre−se que ao informar o nome o usuário pode digitar letras maiúsculas ou minúsculas. Observação: não use loops. \n",
    "\n",
    "nome = input(\"Escreva seu nome: \")\n",
    "\n",
    "nome = nome.upper()\n",
    "resultado = ''\n",
    "\n",
    "print(nome[::-1])"
   ]
  },
  {
   "cell_type": "code",
   "execution_count": null,
   "metadata": {},
   "outputs": [],
   "source": [
    "#Faça um programa que solicite a data de nascimento (dd/mm/aaaa)\n",
    "#do usuário e imprima a data com o nome do mês por extenso. Data de Nascimento: 29/10/1973 \n",
    "#Você nasceu em  29 de Outubro de 1973. Obs.: Não use desvio condicional nem loops. \n",
    "\n",
    "meses = [\"janeiro\",\n",
    "         \"fevereiro\",\n",
    "         \"março\",\n",
    "         \"abril\",\n",
    "         \"maio\",\n",
    "         \"junho\",\n",
    "         \"julho\",\n",
    "         \"agosto\",\n",
    "         \"setembro\",\n",
    "         \"outubro\",\n",
    "         \"novembro\",\n",
    "         \"dezembro\"]\n",
    "\n",
    "data = input(\"informe a data (dd/mm/aaaa): \")\n",
    "\n",
    "\n",
    "print (data.split(\"/\")[0],\n",
    "       \"de\",\n",
    "       meses[(int(data.split(\"/\")[1])-1)],\n",
    "       \"de\",\n",
    "       data.split(\"/\")[2])\n",
    "\n",
    "\n",
    "dia, mes, ano = input('Data (dd/mm/aaaa): ').split('/')\n",
    "meses = ['janeiro','fevereiro','março','abril',\n",
    "         'maio','junho','julho','agosto','setembro',\n",
    "         'outubro','novembro','dezembro']\n",
    "print ('Você nasceu em:')\n",
    "print ('%s de %s de %s' %(dia, meses[int(mes) - 1], ano))\n",
    "\n"
   ]
  },
  {
   "cell_type": "code",
   "execution_count": null,
   "metadata": {},
   "outputs": [],
   "source": [
    "#Leet é uma forma de se escrever o alfabeto latino usando outros símbolos em lugar das letras,\n",
    "#como números por exemplo. A própria palavra leet admite muitas variações, \n",
    "#como l33t ou 1337. O uso do leet reflete uma subcultura relacionada ao mundo dos jogos de computador e internet, \n",
    "#sendo muito usada para confundir os iniciantes e afirmar-se como parte de um grupo. \n",
    "#Pesquise sobre as principais formas de traduzir as letras. Depois, faça um programa \n",
    "#que peça uma texto e transforme-o para a grafia leet speak. \n",
    "\n",
    "\n",
    "\n",
    "\n",
    "\n"
   ]
  },
  {
   "cell_type": "code",
   "execution_count": null,
   "metadata": {},
   "outputs": [],
   "source": []
  }
 ],
 "metadata": {
  "kernelspec": {
   "display_name": "Python 2",
   "language": "python",
   "name": "python2"
  },
  "language_info": {
   "codemirror_mode": {
    "name": "ipython",
    "version": 2
   },
   "file_extension": ".py",
   "mimetype": "text/x-python",
   "name": "python",
   "nbconvert_exporter": "python",
   "pygments_lexer": "ipython2",
   "version": "2.7.15"
  }
 },
 "nbformat": 4,
 "nbformat_minor": 2
}
