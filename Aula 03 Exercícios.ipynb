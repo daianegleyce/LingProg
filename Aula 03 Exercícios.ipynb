{
 "cells": [
  {
   "cell_type": "markdown",
   "metadata": {},
   "source": [
    "### Daiane Gleyce - 8162259311"
   ]
  },
  {
   "cell_type": "markdown",
   "metadata": {},
   "source": [
    "### 1 - Faça um Programa que peça dois números e imprima o maior deles."
   ]
  },
  {
   "cell_type": "code",
   "execution_count": 1,
   "metadata": {},
   "outputs": [
    {
     "name": "stdout",
     "output_type": "stream",
     "text": [
      "Digite um número: 15\n",
      "Digite outro número: 20\n",
      "O maior número digitado foi 20\n"
     ]
    }
   ],
   "source": [
    "num1 = int(input(\"Digite um número: \"))\n",
    "num2 = int(input(\"Digite outro número: \"))\n",
    "\n",
    "if num1>num2:\n",
    "    print(\"O maior número digitado foi \", num1)\n",
    "else:\n",
    "    print(\"O maior número digitado foi\", num2)"
   ]
  },
  {
   "cell_type": "markdown",
   "metadata": {},
   "source": [
    "### 2 - Faça um Programa que verifique se uma letra digitada é vogal ou consoante."
   ]
  },
  {
   "cell_type": "code",
   "execution_count": 2,
   "metadata": {},
   "outputs": [
    {
     "name": "stdout",
     "output_type": "stream",
     "text": [
      "Digite uma letra: f\n",
      "Você digitou uma consoante.\n"
     ]
    }
   ],
   "source": [
    "letra = input(\"Digite uma letra: \")\n",
    "\n",
    "if letra == 'a' or letra == 'e' or letra == 'i' or letra == 'o' or letra == 'u':\n",
    "    print(\"Você digitou uma vogal.\")\n",
    "else:\n",
    "    print(\"Você digitou uma consoante.\")"
   ]
  },
  {
   "cell_type": "markdown",
   "metadata": {},
   "source": [
    "### 3 - Faça um programa para a leitura de duas notas parciais de um aluno. O programa deve calcular a média alcançada por aluno e apresentar:\n",
    "- A mensagem \"Aprovado\", se a média alcançada for maior ou igual a sete;\n",
    "- A mensagem \"Reprovado\", se a média for menor do que sete;\n",
    "- A mensagem \"Aprovado com Distinção\", se a média for igual a dez."
   ]
  },
  {
   "cell_type": "code",
   "execution_count": 3,
   "metadata": {},
   "outputs": [
    {
     "name": "stdout",
     "output_type": "stream",
     "text": [
      "Digite a primeira nota: 8.0\n",
      "Digite a segunda nota: 5.5\n",
      "Média do aluno: 6.75\n",
      "Reprovado\n"
     ]
    }
   ],
   "source": [
    "nota1 = float(input(\"Digite a primeira nota: \"))\n",
    "nota2 = float(input(\"Digite a segunda nota: \"))\n",
    "\n",
    "media = (nota1+nota2)/2\n",
    "print(\"Média do aluno:\", media)\n",
    "\n",
    "if media >= 7:\n",
    "    print(\"Aprovado\")\n",
    "elif media < 7:\n",
    "    print(\"Reprovado\")\n",
    "elif media == 10:\n",
    "    print(\"Aprovado com Distinção\")"
   ]
  },
  {
   "cell_type": "markdown",
   "metadata": {},
   "source": [
    "### 4 - Faça um Programa que leia três números e mostre-os em ordem decrescente."
   ]
  },
  {
   "cell_type": "code",
   "execution_count": 4,
   "metadata": {},
   "outputs": [
    {
     "name": "stdout",
     "output_type": "stream",
     "text": [
      "Digite o primeiro número: 1\n",
      "Digite o segundo número: 2\n",
      "Digite o terceiro número: 3\n",
      "3 2 1\n"
     ]
    }
   ],
   "source": [
    "num1 = int(input(\"Digite o primeiro número: \"))\n",
    "num2 = int(input(\"Digite o segundo número: \"))\n",
    "num3 = int(input(\"Digite o terceiro número: \"))\n",
    "\n",
    "if num1 > num2 > num3:\n",
    "    print(num1, num2, num3)\n",
    "elif num1 > num3 > num2:\n",
    "    print(num1, num3, num2)\n",
    "elif num2 > num1 > num3:\n",
    "    print(num2, num1, num3)\n",
    "elif num2 > num3 > num1:\n",
    "    print(num2, num3, num1)\n",
    "elif num3 > num1 > num2:\n",
    "    print(num3, num1, num2)\n",
    "elif num3 > num2 > num1:\n",
    "    print(num3, num2, num1)"
   ]
  },
  {
   "cell_type": "markdown",
   "metadata": {},
   "source": [
    "### 5 - As Organizações Tabajara resolveram dar um aumento de salário aos seus colaboradores e lhe contrataram para desenvolver o programa que calculará os reajustes. Faça um programa que recebe o salário de um colaborador e o reajuste segundo o seguinte critério, baseado no salário atual:\n",
    "- salários até R$ 280,00 (incluindo) : aumento de 20%\n",
    "- salários entre R$ 280,00 e R$ 700,00 : aumento de 15%\n",
    "- salários entre R$ 700,00 e R$ 1500,00 : aumento de 10%\n",
    "- salários de R$ 1500,00 em diante : aumento de 5% Após o aumento ser realizado,\n",
    "informe na tela:\n",
    "- o salário antes do reajuste;\n",
    "- o percentual de aumento aplicado;\n",
    "- o valor do aumento;\n",
    "- o novo salário, após o aumento."
   ]
  },
  {
   "cell_type": "code",
   "execution_count": 5,
   "metadata": {},
   "outputs": [
    {
     "name": "stdout",
     "output_type": "stream",
     "text": [
      "Digite o salário: 280.00\n",
      "Seu salário antes do reajuste: 280.0\n",
      "Percentual aplicado: 20\n",
      "Valor do aumento: 56.0\n",
      "O novo salário, após o aumento: 336.0\n"
     ]
    }
   ],
   "source": [
    "salario = float(input(\"Digite o salário: \"))\n",
    "\n",
    "if salario <= 280.00:\n",
    "    reajuste = (20/100.00) * salario\n",
    "    resultado = salario + reajuste\n",
    "    print (\"Seu salário antes do reajuste:\", salario)\n",
    "    print (\"Percentual aplicado:\", 20)\n",
    "    print (\"Valor do aumento:\", reajuste)\n",
    "    print (\"O novo salário, após o aumento:\", resultado)\n",
    "elif salario > 280.00 and salario <= 700.00:\n",
    "    reajuste = (15 / 100.0) * salario\n",
    "    resultado = salario + reajuste\n",
    "    print (\"Seu salário antes do reajuste:\", salario)\n",
    "    print (\"Percentual aplicado:\", 15)\n",
    "    print (\"Valor do aumento:\", reajuste)\n",
    "    print (\"O novo salário, após o aumento:\", resultado)\n",
    "elif salario > 1500.00:\n",
    "    reajuste = (5 / 100.0) * salario\n",
    "    resultado = salario + reajuste\n",
    "    print (\"Seu salário antes do reajuste:\", salario)\n",
    "    print (\"Percentual aplicado:\", 5)\n",
    "    print (\"Valor do aumento:\", reajuste)\n",
    "    print (\"O novo salário, após o aumento:\", resultado)"
   ]
  },
  {
   "cell_type": "markdown",
   "metadata": {},
   "source": [
    "### 6 - Faça um Programa que leia um número e exiba o dia correspondente da semana. (1-Domingo, 2- Segunda, etc.), se digitar outro valor deve aparecer valor inválido."
   ]
  },
  {
   "cell_type": "code",
   "execution_count": 6,
   "metadata": {},
   "outputs": [
    {
     "name": "stdout",
     "output_type": "stream",
     "text": [
      "Insira o número: 7\n",
      "7 - Sábado\n"
     ]
    }
   ],
   "source": [
    "dia = int(input(\"Insira o número: \"))\n",
    "\n",
    "if dia == 1:\n",
    "    print(\"1 - Domingo\")\n",
    "elif dia == 2:\n",
    "    print(\"2 - Segunda-feira\")\n",
    "elif dia == 3:\n",
    "    print(\"3 - Terça-feira\")\n",
    "elif dia == 4:\n",
    "    print(\"4 - Quarta-feira\")\n",
    "elif dia == 5:\n",
    "    print(\"5 - Quinta-feira\")\n",
    "elif dia == 6:\n",
    "    print(\"6 - Sexta-feira\")\n",
    "elif dia == 7:\n",
    "    print(\"7 - Sábado\")\n",
    "else:\n",
    "    print(\"Valor inválido!\")"
   ]
  },
  {
   "cell_type": "markdown",
   "metadata": {},
   "source": [
    "### 7 - Faça um programa que lê as duas notas parciais obtidas por um aluno numa disciplina ao longo de um semestre, e calcule a sua média. A atribuição de conceitos obedece à tabela abaixo:\n",
    "### Média de Aproveitamento Conceito\n",
    "### Entre 9.0 e 10.0 A\n",
    "### Entre 7.5 e 9.0 B\n",
    "### Entre 6.0 e 7.5 C\n",
    "### Entre 4.0 e 6.0 D\n",
    "### Entre 4.0 e zero E\n",
    "\n",
    "### O algoritmo deve mostrar na tela as notas, a média, o conceito correspondente e a mensagem “APROVADO” se o conceito for A, B ou C ou “REPROVADO” se o conceito for D ou E."
   ]
  },
  {
   "cell_type": "code",
   "execution_count": 7,
   "metadata": {},
   "outputs": [
    {
     "name": "stdout",
     "output_type": "stream",
     "text": [
      "Digite a primeira nota: 8.0\n",
      "Digite a segunda nota: 6.75\n",
      "Primeira nota: 8.0\n",
      "Segunda nota: 6.75\n",
      "Média: 7.375\n",
      "Conceito correspondente: 'C'\n",
      "APROVADO\n"
     ]
    }
   ],
   "source": [
    "nota1 = float(input(\"Digite a primeira nota: \"))\n",
    "nota2 = float(input(\"Digite a segunda nota: \"))\n",
    "\n",
    "media = (nota1+nota2)/2\n",
    "if media >= 9.0 and media <= 10.0:\n",
    "    print(\"Primeira nota:\", nota1)\n",
    "    print(\"Segunda nota:\", nota2)\n",
    "    print(\"Média:\", media)\n",
    "    print(\"Conceito correspondente: 'A'\")\n",
    "    print(\"APROVADO\")\n",
    "elif media >= 7.5 and media <= 9.0:\n",
    "    print(\"Primeira nota:\", nota1)\n",
    "    print(\"Segunda nota:\", nota2)\n",
    "    print(\"Média:\", media)\n",
    "    print(\"Conceito correspondente: 'B'\")\n",
    "    print(\"APROVADO\")\n",
    "elif media >= 6.0 and media <= 7.5:\n",
    "    print(\"Primeira nota:\", nota1)\n",
    "    print(\"Segunda nota:\", nota2)\n",
    "    print(\"Média:\", media)\n",
    "    print(\"Conceito correspondente: 'C'\")\n",
    "    print(\"APROVADO\")\n",
    "elif media >= 4.0 and media <= 6.0:\n",
    "    print(\"Primeira nota:\", nota1)\n",
    "    print(\"Segunda nota:\", nota2)\n",
    "    print(\"Média:\", media)\n",
    "    print(\"Conceito correspondente: 'D'\")\n",
    "    print(\"REPROVADO\")\n",
    "elif media < 4:\n",
    "    print(\"Primeira nota:\", nota1)\n",
    "    print(\"Segunda nota:\", nota2)\n",
    "    print(\"Média:\", media)\n",
    "    print(\"Conceito correspondente: 'E'\")\n",
    "    print(\"REPROVADO\")"
   ]
  },
  {
   "cell_type": "markdown",
   "metadata": {},
   "source": [
    "### 8 - Faça um Programa que peça os 3 lados de um triângulo. O programa deverá informar se os valores podem ser um triângulo. Indique, caso os lados formem um triângulo, se o mesmo é: equilátero, isósceles ou escaleno. Dicas:\n",
    "- Três lados formam um triângulo quando a soma de quaisquer dois lados for maior\n",
    "que o terceiro;\n",
    "- Triângulo Equilátero: três lados iguais;\n",
    "- Triângulo Isósceles: quaisquer dois lados iguais;\n",
    "- Triângulo Escaleno: três lados diferentes;"
   ]
  },
  {
   "cell_type": "code",
   "execution_count": 8,
   "metadata": {},
   "outputs": [
    {
     "name": "stdout",
     "output_type": "stream",
     "text": [
      "Digite o primeiro lado do triângulo: 5\n",
      "Digite o segundo lado do triângulo: 5\n",
      "Digite o terceiro lado do triângulo: 5\n",
      "O triângulo é equilátero!\n"
     ]
    }
   ],
   "source": [
    "lado1 = int(input(\"Digite o primeiro lado do triângulo: \"))\n",
    "lado2 = int(input(\"Digite o segundo lado do triângulo: \"))\n",
    "lado3 = int(input(\"Digite o terceiro lado do triângulo: \"))\n",
    "\n",
    "if lado1+lado2>lado3:\n",
    "    if lado1==lado2==lado3:\n",
    "        print(\"O triângulo é equilátero!\")\n",
    "    elif lado1 == lado2 or lado2 == lado3 or lado1 == lado3:\n",
    "        print(\"O triângulo é isósceles!\")\n",
    "    elif lado1 != lado2 and lado3 or lado2 != lado1 and lado3 or lado1 != lado3:\n",
    "        print(\"O triângulo é escaleno!\")\n",
    "else:\n",
    "    print(\"Os lados são inválidos.\")"
   ]
  },
  {
   "cell_type": "markdown",
   "metadata": {},
   "source": [
    "### 9 - Faça um programa que calcule as raízes de uma equação do segundo grau, na forma ax2 + bx + c. O programa deverá pedir os valores de a, b e c e fazer as consistências, informando ao usuário nas seguintes situações:\n",
    "- Se o usuário informar o valor de A igual a zero, a equação não é do segundo grau e\n",
    "o programa não deve fazer pedir os demais valores, sendo encerrado;\n",
    "- Se o delta calculado for negativo, a equação não possui raizes reais. Informe ao\n",
    "usuário e encerre o programa;\n",
    "- Se o delta calculado for igual a zero a equação possui apenas uma raiz real;\n",
    "informe-a ao usuário;\n",
    "- Se o delta for positivo, a equação possui duas raiz reais; informe-as ao usuário;"
   ]
  },
  {
   "cell_type": "code",
   "execution_count": 9,
   "metadata": {},
   "outputs": [
    {
     "name": "stdout",
     "output_type": "stream",
     "text": [
      "Digite o valor do coeficiente A: 4\n",
      "Digite o valor do coeficiente B: 5\n",
      "Digite o valor do coeficiente C: 6\n",
      "A equação não possui raízes reais!\n"
     ]
    }
   ],
   "source": [
    "import math\n",
    "    \n",
    "a = int(input(\"Digite o valor do coeficiente A: \"))\n",
    "\n",
    "if(a==0):\n",
    "    print(\"A = 0, a equação não é do segundo grau\")\n",
    "else:\n",
    "    b = int(input(\"Digite o valor do coeficiente B: \"))\n",
    "    c = int(input(\"Digite o valor do coeficiente C: \"))\n",
    "    delta = b*b - (4*a*c)\n",
    "\n",
    "    if delta<0:\n",
    "        print(\"A equação não possui raízes reais!\")\n",
    "    elif delta==0:\n",
    "        raiz = -b / (2*a)\n",
    "        print(\"Delta = 0, raiz = \",raiz)\n",
    "    else:\n",
    "        raiz1 = (-b + math.sqrt(delta) ) / (2*a)\n",
    "        raiz2 = (-b - math.sqrt(delta) ) / (2*a)\n",
    "        print(\"Raizes:\" ,raiz1, \"e \",raiz2)"
   ]
  },
  {
   "cell_type": "markdown",
   "metadata": {},
   "source": [
    "### 10 - Faça um Programa para um caixa eletrônico. O programa deverá perguntar ao usuário a valor do saque e depois informar quantas notas de cada valor serão fornecidas. As notas disponíveis serão as de 1, 5, 10, 50 e 100 reais. O valor mínimo é de 10 reais e o máximo de 600 reais. O programa não deve se preocupar com a quantidade de notas existentes na máquina.\n",
    "- Exemplo 1: Para sacar a quantia de 256 reais, o programa fornece duas notas de\n",
    "100, uma nota de 50, uma nota de 5 e uma nota de 1;\n",
    "- Exemplo 2: Para sacar a quantia de 399 reais, o programa fornece três notas de\n",
    "100, uma nota de 50, quatro notas de 10, uma nota de 5 e quatro notas de 1."
   ]
  },
  {
   "cell_type": "code",
   "execution_count": 10,
   "metadata": {},
   "outputs": [
    {
     "name": "stdout",
     "output_type": "stream",
     "text": [
      "Digite o valor do saque: 244\n",
      "Quantidade de notas de 100: 2\n",
      "Quantidade de notas de 50: 0\n",
      "Quantidade de notas de 10: 4\n",
      "Quantidade de notas de 5: 0\n",
      "Quantidade de notas de 1: 4\n"
     ]
    }
   ],
   "source": [
    "saque = int(input(\"Digite o valor do saque: \"))\n",
    "\n",
    "if saque < 10 or saque > 600:\n",
    "    print(\"Saque inválido!\")\n",
    "else:\n",
    "    notas100 = int(saque/100)\n",
    "    resto = int(saque%100)\n",
    "    notas50 = int(resto/50)\n",
    "    resto = int(resto%50)\n",
    "    notas10 = int(resto/10)\n",
    "    resto = int(resto%10)\n",
    "    notas5 = int(resto/5)\n",
    "    resto = int(resto%5)\n",
    "    notas1 = resto\n",
    "    print(\n",
    "        f'Quantidade de notas de 100: {notas100}',\n",
    "        f'Quantidade de notas de 50: {notas50}',\n",
    "        f'Quantidade de notas de 10: {notas10}',\n",
    "        f'Quantidade de notas de 5: {notas5}',\n",
    "        f'Quantidade de notas de 1: {notas1}',\n",
    "        sep='\\n'\n",
    "    )"
   ]
  },
  {
   "cell_type": "markdown",
   "metadata": {},
   "source": [
    "### 11 - Faça um programa que faça 5 perguntas para uma pessoa sobre um crime. As perguntas são:\n",
    "\n",
    "### \"Telefonou para a vítima?\" \"Esteve no local do crime?\" \"Mora perto da vítima?\" \"Devia para a vítima?\" \"Já trabalhou com a vítima?\"\n",
    "\n",
    "### O programa deve no final emitir uma classificação sobre a participação da pessoa no crime. Se a pessoa responder positivamente a 2 questões ela deve ser classificada como \"Suspeita\", entre 3 e 4 como \"Cúmplice\" e 5 como \"Assassino\". Caso contrário, ele será classificado como \"Inocente\"."
   ]
  },
  {
   "cell_type": "code",
   "execution_count": 11,
   "metadata": {},
   "outputs": [],
   "source": [
    "def gerarPerguntas():\n",
    "    quantidade_positivo = 0\n",
    "    status = {2 : \"Suspeito(a)\",\n",
    "              3 : \"Cúmplice\",\n",
    "              4 : \"Cúmplice\",\n",
    "              5 : \"Assassino\"}\n",
    "\n",
    "    lista_perguntas = [\"Telefonou para a vítima?\",\n",
    "                       \"Esteve no local do crime?\",\n",
    "                       \"Mora perto da vítima?\",\n",
    "                       \"Devia para a vítima?\",\n",
    "                       \"Já trabalhou com a vítima?\"]\n",
    "              \n",
    "    \n",
    "    for index in len(lista_perguntas):  \n",
    "        print (lista_perguntas[index] + \" (sim ou não).\")\n",
    "        resposta = input(\"Resp.:\")\n",
    "           \n",
    "        if resposta.lower() == \"sim\":\n",
    "            quantidade_positivo += 1\n",
    "            \n",
    "    if quantidade_positivo in status:\n",
    "        print (status[quantidade_positivo])\n",
    "        \n",
    "    else:\n",
    "        print (\"Inocente\")"
   ]
  },
  {
   "cell_type": "markdown",
   "metadata": {},
   "source": [
    "### 12 - Uma fruteira está vendendo frutas com a seguinte tabela de preços:\n",
    "Até 5 Kg Acima de 5 Kg\n",
    "Morango R$ 2,50 por Kg R$ 2,20 por Kg\n",
    "Maçã R$ 1,80 por Kg R$ 1,50 por Kg\n",
    "Se o cliente comprar mais de 8 Kg em frutas ou o valor total da compra ultrapassar\n",
    "R$ 25,00, receberá ainda um desconto de 10% sobre este total. \n",
    "### Escreva um algoritmo para ler a quantidade (em Kg) de morangos e a quantidade (em Kg) de maças adquiridas e escreva o valor a ser pago pelo cliente."
   ]
  },
  {
   "cell_type": "code",
   "execution_count": 12,
   "metadata": {},
   "outputs": [
    {
     "name": "stdout",
     "output_type": "stream",
     "text": [
      "Digite a quantidade (kg) de morangos: 2\n",
      "Digite a quantidade (kg) de maçãs: 3\n",
      "Valor da compra: 4.3\n"
     ]
    }
   ],
   "source": [
    "preco_morango = 0\n",
    "preco_maca = 0\n",
    "\n",
    "qtde_morango = float(input(\"Digite a quantidade (kg) de morangos: \"))\n",
    "qtde_maca = float(input(\"Digite a quantidade (kg) de maçãs: \"))\n",
    "\n",
    "total = qtde_morango + qtde_maca\n",
    "if total <= 5:\n",
    "    preco_morango = 2.50\n",
    "    preco_maca = 1.80\n",
    "    totalCompra = preco_morango + preco_maca\n",
    "else:\n",
    "    preco_morango = 2.20\n",
    "    preco_maca = 1.50\n",
    "    totalCompra = preco_morango + preco_maca\n",
    "\n",
    "if totalCompra > 8 or totalCompra> 25.00:\n",
    "    print(\"Valor da compra:\", totalCompra)\n",
    "else:\n",
    "    print(\"Valor da compra:\", totalCompra)"
   ]
  },
  {
   "cell_type": "markdown",
   "metadata": {},
   "source": [
    "### 13 - Faça um programa que peça uma nota, entre zero e dez. Mostre uma mensagem caso o valor seja inválido e continue pedindo até que o usuário informe um valor válido."
   ]
  },
  {
   "cell_type": "code",
   "execution_count": 13,
   "metadata": {},
   "outputs": [
    {
     "name": "stdout",
     "output_type": "stream",
     "text": [
      "Digite uma nota: 13\n",
      "Digite uma nota: 12\n",
      "Valor inválido\n",
      "Digite uma nota: 11\n",
      "Valor inválido\n",
      "Digite uma nota: 10\n",
      "Valor inválido\n"
     ]
    }
   ],
   "source": [
    "nota = int(input(\"Digite uma nota: \"))\n",
    "while nota < 0 or nota > 10:\n",
    "    nota = int(input(\"Digite uma nota: \"))\n",
    "    print(\"Valor inválido\")"
   ]
  },
  {
   "cell_type": "markdown",
   "metadata": {},
   "source": [
    "### Faça um programa que leia e valide as seguintes informações: \n",
    "\n",
    "Nome: maior que 3 caracteres;\n",
    "\n",
    "Idade: entre 0 e 150;\n",
    "\n",
    "Salário: maior que zero;\n",
    "\n",
    "Sexo: 'f' ou 'm';\n",
    "\n",
    "Estado Civil: 's', 'c', 'v', 'd';"
   ]
  },
  {
   "cell_type": "code",
   "execution_count": 14,
   "metadata": {},
   "outputs": [
    {
     "name": "stdout",
     "output_type": "stream",
     "text": [
      "Digite seu nome: João\n",
      "Digite sua idade: 20\n",
      "Digite seu salário: 500.00\n",
      "Digite seu sexo: m\n",
      "Digite seu estado civil: s\n"
     ]
    }
   ],
   "source": [
    "nome = input(\"Digite seu nome: \")\n",
    "while len(nome) < 4:\n",
    "    print(\"O nome precisa ser maior que 3 caracteres\")\n",
    "    nome = input(\"Digite seu nome: \")\n",
    "\n",
    "idade = int(input(\"Digite sua idade: \"))\n",
    "while idade < 0 or idade > 150:\n",
    "    print(\"Idade entre 0 e 150\")\n",
    "    idade = int(input(\"Digite sua idade: \"))\n",
    "    \n",
    "salario = float(input(\"Digite seu salário: \"))\n",
    "while salario <= 0:\n",
    "    print(\"Salário negativo\")\n",
    "    salario = float(input(\"Digite seu salário: \"))\n",
    "    \n",
    "sexo = input(\"Digite seu sexo: \")\n",
    "while sexo not in ['f', 'm']:\n",
    "    print(\"Sexo inválido\")\n",
    "    sexo = input(\"Digite seu sexo: \")\n",
    "    \n",
    "estadoCivil = input(\"Digite seu estado civil: \")\n",
    "while estadoCivil not in ['s', 'c', 'v', 'd']:\n",
    "    print(\"Estado civil inválido\")\n",
    "    estadoCivil = input(\"Digite seu estado civil: \")"
   ]
  },
  {
   "cell_type": "markdown",
   "metadata": {},
   "source": [
    "### 14 - Faça um programa que leia 5 números e informe o maior número."
   ]
  },
  {
   "cell_type": "code",
   "execution_count": 15,
   "metadata": {},
   "outputs": [
    {
     "name": "stdout",
     "output_type": "stream",
     "text": [
      "Digite 5 números: 5\n",
      "Digite 5 números: 10\n",
      "Digite 5 números: 15\n",
      "Digite 5 números: 20\n",
      "Digite 5 números: 25\n",
      "Maior número digitado: 25\n"
     ]
    }
   ],
   "source": [
    "print(\"Maior número digitado:\",max([int(input(\"Digite 5 números: \")) for x in range(5) ] ) )"
   ]
  },
  {
   "cell_type": "markdown",
   "metadata": {},
   "source": [
    "### 15 - Faça um programa que leia 5 números e informe a soma e a média dos números."
   ]
  },
  {
   "cell_type": "code",
   "execution_count": 16,
   "metadata": {},
   "outputs": [
    {
     "name": "stdout",
     "output_type": "stream",
     "text": [
      "Digite 5 números: 1\n",
      "Digite 5 números: 2\n",
      "Digite 5 números: 3\n",
      "Digite 5 números: 4\n",
      "Digite 5 números: 5\n",
      "Soma dos elementos: 15.0\n",
      "Média dos elementos: 3.0\n"
     ]
    }
   ],
   "source": [
    "num = [float(input(\"Digite 5 números: \")) for x in range(5)]\n",
    "soma = sum(num)\n",
    "media = soma/len(num)\n",
    "\n",
    "print(\"Soma dos elementos:\", soma)\n",
    "print(\"Média dos elementos:\", media)"
   ]
  },
  {
   "cell_type": "markdown",
   "metadata": {},
   "source": [
    "### 16 - Faça um programa que imprima na tela apenas os números ímpares entre 1 e 50."
   ]
  },
  {
   "cell_type": "code",
   "execution_count": 17,
   "metadata": {},
   "outputs": [
    {
     "name": "stdout",
     "output_type": "stream",
     "text": [
      "[1, 3, 5, 7, 9, 11, 13, 15, 17, 19, 21, 23, 25, 27, 29, 31, 33, 35, 37, 39, 41, 43, 45, 47, 49]\n"
     ]
    }
   ],
   "source": [
    "print([x for x in range(1, 51)][::2])"
   ]
  },
  {
   "cell_type": "markdown",
   "metadata": {},
   "source": [
    "### 17 - Desenvolva um gerador de tabuada, capaz de gerar a tabuada de qualquer número inteiro entre 1 a 10. O usuário deve informar de qual numero ele deseja ver a tabuada. A saída deve ser conforme o exemplo abaixo:\n",
    "\n",
    "#### Tabuada de 5:\n",
    "#### 5 X 1 = 5\n",
    "#### 5 X 2 = 10\n",
    "#### ...\n",
    "#### 5 X 10 = 50"
   ]
  },
  {
   "cell_type": "code",
   "execution_count": 21,
   "metadata": {},
   "outputs": [
    {
     "name": "stdout",
     "output_type": "stream",
     "text": [
      "Digite um número para ver sua tabuada: 5\n",
      "Tabuada do 5\n",
      "5 x  1 = 5\n",
      "5 x  2 = 10\n",
      "5 x  3 = 15\n",
      "5 x  4 = 20\n",
      "5 x  5 = 25\n",
      "5 x  6 = 30\n",
      "5 x  7 = 35\n",
      "5 x  8 = 40\n",
      "5 x  9 = 45\n",
      "5 x 10 = 50\n"
     ]
    }
   ],
   "source": [
    "num = int(input(\"Digite um número para ver sua tabuada: \"))\n",
    "r = 1\n",
    "print(f'Tabuada do {num}')\n",
    "while r <= 10 :\n",
    "    print(f'{num} x {r:2} = {num*r}')\n",
    "    r += 1"
   ]
  },
  {
   "cell_type": "markdown",
   "metadata": {},
   "source": [
    "### 18 - A série de Fibonacci é formada pela seqüência 1,1,2,3,5,8,13,21,34,55,... Faça um programa capaz de gerar a série até o n−ésimo termo."
   ]
  },
  {
   "cell_type": "code",
   "execution_count": 22,
   "metadata": {},
   "outputs": [
    {
     "name": "stdout",
     "output_type": "stream",
     "text": [
      "Digite o número de termos da sequência: 10\n",
      "0 → 1 → 1 → 2 → 3 → 5 → 8 → 13 → 21 → 34 → "
     ]
    }
   ],
   "source": [
    "anterior = 1\n",
    "fibonacci = 0\n",
    "\n",
    "n = int(input(\"Digite o número de termos da sequência: \"))\n",
    "\n",
    "while n != 0:\n",
    "    print('{}'.format(fibonacci), end=' → ')\n",
    "    fibonacci = fibonacci + anterior\n",
    "    anterior = fibonacci - anterior\n",
    "    n -= 1"
   ]
  },
  {
   "cell_type": "markdown",
   "metadata": {},
   "source": [
    "### 19 - Faça um programa que calcule o fatorial de um número inteiro fornecido pelo usuário. Ex.: 5!=5.4.3.2.1=120"
   ]
  },
  {
   "cell_type": "code",
   "execution_count": 4,
   "metadata": {},
   "outputs": [
    {
     "name": "stdout",
     "output_type": "stream",
     "text": [
      "Qual número deseja ver seu fatorial? 5\n",
      "Fatorial de 5 : 120\n"
     ]
    }
   ],
   "source": [
    "from math import factorial\n",
    "num = int(input(\"Qual número deseja ver seu fatorial? \"))\n",
    "fat = factorial(num)\n",
    "print(\"Fatorial de\", num,\":\", fat)"
   ]
  },
  {
   "cell_type": "markdown",
   "metadata": {},
   "source": [
    "### 20 - O Sr. Manoel Joaquim possui uma grande loja de artigos de RS 1,99, com cerca de 10 caixas. Para agilizar o cálculo de quanto cada cliente deve pagar ele desenvolveu um tabela que contém o número de itens que o cliente comprou e ao lado o valor da conta. Desta forma a atendente do caixa precisa apenas contar quantos itens o cliente está levando e olhar na tabela de preços. Você foi contratado para desenvolver o programa que monta esta tabela de preços, que conterá os preços de 1 até 50 produtos, conforme o exemplo abaixo:\n",
    "\n",
    "##### Lojas Quase Dois - Tabela de preços\n",
    "##### 1 - RS 1.99\n",
    "##### 2 - RS 3.98\n",
    "...\n",
    "##### 50 - RS 99.50"
   ]
  },
  {
   "cell_type": "code",
   "execution_count": 5,
   "metadata": {},
   "outputs": [
    {
     "name": "stdout",
     "output_type": "stream",
     "text": [
      "Tabela de preços\n",
      "\n",
      " 1 - R$ 1.99\n",
      " 2 - R$ 3.98\n",
      " 3 - R$ 5.97\n",
      " 4 - R$ 7.96\n",
      " 5 - R$ 9.95\n",
      " 6 - R$ 11.94\n",
      " 7 - R$ 13.93\n",
      " 8 - R$ 15.92\n",
      " 9 - R$ 17.91\n",
      "10 - R$ 19.90\n",
      "11 - R$ 21.89\n",
      "12 - R$ 23.88\n",
      "13 - R$ 25.87\n",
      "14 - R$ 27.86\n",
      "15 - R$ 29.85\n",
      "16 - R$ 31.84\n",
      "17 - R$ 33.83\n",
      "18 - R$ 35.82\n",
      "19 - R$ 37.81\n",
      "20 - R$ 39.80\n",
      "21 - R$ 41.79\n",
      "22 - R$ 43.78\n",
      "23 - R$ 45.77\n",
      "24 - R$ 47.76\n",
      "25 - R$ 49.75\n",
      "26 - R$ 51.74\n",
      "27 - R$ 53.73\n",
      "28 - R$ 55.72\n",
      "29 - R$ 57.71\n",
      "30 - R$ 59.70\n",
      "31 - R$ 61.69\n",
      "32 - R$ 63.68\n",
      "33 - R$ 65.67\n",
      "34 - R$ 67.66\n",
      "35 - R$ 69.65\n",
      "36 - R$ 71.64\n",
      "37 - R$ 73.63\n",
      "38 - R$ 75.62\n",
      "39 - R$ 77.61\n",
      "40 - R$ 79.60\n",
      "41 - R$ 81.59\n",
      "42 - R$ 83.58\n",
      "43 - R$ 85.57\n",
      "44 - R$ 87.56\n",
      "45 - R$ 89.55\n",
      "46 - R$ 91.54\n",
      "47 - R$ 93.53\n",
      "48 - R$ 95.52\n",
      "49 - R$ 97.51\n",
      "50 - R$ 99.50\n"
     ]
    }
   ],
   "source": [
    "print (\"Tabela de preços\\n\")\n",
    "\n",
    "for i in range(1, 51):\n",
    "    print ('%2d - R$ %.2f' % (i, i * 1.99))"
   ]
  },
  {
   "cell_type": "markdown",
   "metadata": {},
   "source": [
    "### 21 - O Sr. Manoel Joaquim acaba de adquirir uma panificadora e pretende implantar a metodologia da tabelinha, que já é um sucesso na sua loja de 1,99. Você foi contratado para desenvolver o programa que monta a tabela de preços de pães, de 1 até 50 pães, a partir do preço do pão informado pelo usuário, conforme o exemplo abaixo:\n",
    "\n",
    "##### Preço do pão: RS 0.18\n",
    "##### Panificadora Pão de Ontem - Tabela de preços\n",
    "##### 1 - RS 0.18\n",
    "##### 2 - RS 0.36"
   ]
  },
  {
   "cell_type": "code",
   "execution_count": 6,
   "metadata": {},
   "outputs": [
    {
     "name": "stdout",
     "output_type": "stream",
     "text": [
      "Tabela de preços\n",
      "\n",
      " 1 - R$ 0.18\n",
      " 2 - R$ 0.36\n",
      " 3 - R$ 0.54\n",
      " 4 - R$ 0.72\n",
      " 5 - R$ 0.90\n",
      " 6 - R$ 1.08\n",
      " 7 - R$ 1.26\n",
      " 8 - R$ 1.44\n",
      " 9 - R$ 1.62\n",
      "10 - R$ 1.80\n",
      "11 - R$ 1.98\n",
      "12 - R$ 2.16\n",
      "13 - R$ 2.34\n",
      "14 - R$ 2.52\n",
      "15 - R$ 2.70\n",
      "16 - R$ 2.88\n",
      "17 - R$ 3.06\n",
      "18 - R$ 3.24\n",
      "19 - R$ 3.42\n",
      "20 - R$ 3.60\n",
      "21 - R$ 3.78\n",
      "22 - R$ 3.96\n",
      "23 - R$ 4.14\n",
      "24 - R$ 4.32\n",
      "25 - R$ 4.50\n",
      "26 - R$ 4.68\n",
      "27 - R$ 4.86\n",
      "28 - R$ 5.04\n",
      "29 - R$ 5.22\n",
      "30 - R$ 5.40\n",
      "31 - R$ 5.58\n",
      "32 - R$ 5.76\n",
      "33 - R$ 5.94\n",
      "34 - R$ 6.12\n",
      "35 - R$ 6.30\n",
      "36 - R$ 6.48\n",
      "37 - R$ 6.66\n",
      "38 - R$ 6.84\n",
      "39 - R$ 7.02\n",
      "40 - R$ 7.20\n",
      "41 - R$ 7.38\n",
      "42 - R$ 7.56\n",
      "43 - R$ 7.74\n",
      "44 - R$ 7.92\n",
      "45 - R$ 8.10\n",
      "46 - R$ 8.28\n",
      "47 - R$ 8.46\n",
      "48 - R$ 8.64\n",
      "49 - R$ 8.82\n",
      "50 - R$ 9.00\n"
     ]
    }
   ],
   "source": [
    "print (\"Tabela de preços\\n\")\n",
    "\n",
    "for i in range(1, 51):\n",
    "    print ('%2d - R$ %.2f' % (i, i * 0.18))"
   ]
  },
  {
   "cell_type": "markdown",
   "metadata": {},
   "source": [
    "### 22 - O Sr. Manoel Joaquim expandiu seus negócios para além dos negócios de 1,99 e agora possui uma loja de conveniências. Faça um programa que implemente uma caixa registradora rudimentar. O programa deverá receber um número desconhecido de valores referentes aos preços das mercadorias. Um valor zero deve ser informado pelo operador para indicar o final da compra. O programa deve então mostrar o total da compra e perguntar o valor em dinheiro que o cliente forneceu, para então calcular e mostrar o valor do troco. Após esta operação, o programa deverá voltar ao ponto inicial, para registrar a próxima compra. A saída deve ser conforme o exemplo abaixo:\n",
    "\n",
    "##### Lojas Tabajara\n",
    "##### Produto 1: RS 2.20\n",
    "##### Produto 2: RS 5.80\n",
    "##### Produto 3: RS 0\n",
    "##### Total: RS 9.00\n",
    "##### Dinheiro: RS 20.00\n",
    "##### Troco: RS 11.00\n",
    "..."
   ]
  },
  {
   "cell_type": "code",
   "execution_count": 7,
   "metadata": {},
   "outputs": [
    {
     "name": "stdout",
     "output_type": "stream",
     "text": [
      "Produto 1: R$ 2.50\n",
      "Produto 2: R$ 7.00\n",
      "Produto 3: R$ 0\n",
      "\n",
      "Total: R$ 9.50\n",
      "Dinheiro: R$ 15.00\n",
      "Troco: R$ 5.50\n"
     ]
    }
   ],
   "source": [
    "soma = 0.0\n",
    "produto = 1\n",
    "preco = 1\n",
    "\n",
    "\n",
    "while (preco != 0):\n",
    "    preco = float(input(f'Produto {produto}: R$ '))\n",
    "    soma += preco\n",
    "    produto += 1\n",
    "\n",
    "print ('\\nTotal: R$ %.2f' % soma)\n",
    "pagamento = float(input('Dinheiro: R$ '))\n",
    "\n",
    "print ('Troco: R$ %.2f' % (pagamento - soma))"
   ]
  },
  {
   "cell_type": "markdown",
   "metadata": {},
   "source": [
    "### 23 - Foi feita uma estatística em cinco cidades brasileiras para coletar dados sobre acidentes de trânsito. Foram obtidos os seguintes dados:\n",
    "- Código da cidade;\n",
    "- Número de veículos de passeio (em 1999);\n",
    "- Número de acidentes de trânsito com vítimas (em 1999). Deseja-se saber:\n",
    "- Qual o maior e menor índice de acidentes de transito e a que cidade pertence;\n",
    "- Qual a média de veículos nas cinco cidades juntas;\n",
    "- Qual a média de acidentes de trânsito nas cidades com menos de 2.000 veículos de\n",
    "passeio."
   ]
  },
  {
   "cell_type": "code",
   "execution_count": 8,
   "metadata": {},
   "outputs": [
    {
     "name": "stdout",
     "output_type": "stream",
     "text": [
      "\n",
      "Digite o código da cidade: 1\n",
      "Digite o número de veículos de passeio (em 1999): 150\n",
      "Digite a quantidade de acidentes (em 1999): 27\n",
      "\n",
      "Digite o código da cidade: 1\n",
      "Digite o número de veículos de passeio (em 1999): 95\n",
      "Digite a quantidade de acidentes (em 1999): 63\n",
      "\n",
      "Digite o código da cidade: 2\n",
      "Digite o número de veículos de passeio (em 1999): 64\n",
      "Digite a quantidade de acidentes (em 1999): 125\n",
      "\n",
      "Digite o código da cidade: 3\n",
      "Digite o número de veículos de passeio (em 1999): 45\n",
      "Digite a quantidade de acidentes (em 1999): 17\n",
      "\n",
      "Digite o código da cidade: 4\n",
      "Digite o número de veículos de passeio (em 1999): 847\n",
      "Digite a quantidade de acidentes (em 1999): 52\n",
      "\n",
      "A cidade com maior índice de acidentes é 2 com 1.95\n",
      "A cidade com menor índice de acidentes é 4 com 0.06\n",
      "A média de veículos nas cidades é 240.20\n",
      "A média de acidentes de trânsito nas cidades com menos de dois mil veículos é 56.80\n"
     ]
    }
   ],
   "source": [
    "soma_veiculos = 0\n",
    "soma_acidentes = 0\n",
    "soma_acidentes_menos_dois_mil = 0\n",
    "total_cidades_menos_dois_mil = 0\n",
    "\n",
    "for i in range(0, 5):\n",
    "    codigo = int(input('\\nDigite o código da cidade: '))\n",
    "    veiculos = int(input('Digite o número de veículos de passeio (em 1999): '))\n",
    "    acidentes = int(input('Digite a quantidade de acidentes (em 1999): '))\n",
    "\n",
    "    indice_acidentes = acidentes / float(veiculos)\n",
    "    soma_veiculos += veiculos\n",
    "\n",
    "    if ('mais_acidentes' not in vars()) or (indice_acidentes > mais_acidentes):\n",
    "        mais_acidentes = indice_acidentes\n",
    "        codigo_mais_acidentes = codigo\n",
    "    if ('menos_acidentes' not in vars()) or (indice_acidentes < menos_acidentes):\n",
    "        menos_acidentes = indice_acidentes\n",
    "        codigo_menos_acidentes = codigo\n",
    "\n",
    "    if (veiculos < 2000):\n",
    "        soma_acidentes_menos_dois_mil += acidentes\n",
    "        total_cidades_menos_dois_mil += 1\n",
    "\n",
    "print ('\\nA cidade com maior índice de acidentes é %i com %.2f' %(codigo_mais_acidentes, mais_acidentes))\n",
    "print ('A cidade com menor índice de acidentes é %i com %.2f' %(codigo_menos_acidentes, menos_acidentes))\n",
    "print ('A média de veículos nas cidades é %.2f' % (soma_veiculos / 5.0))\n",
    "print ('A média de acidentes de trânsito nas cidades com menos de dois mil veículos é %.2f' %(soma_acidentes_menos_dois_mil / float(total_cidades_menos_dois_mil)))"
   ]
  },
  {
   "cell_type": "markdown",
   "metadata": {},
   "source": [
    "### 24 - Faça um programa que receba o valor de uma dívida e mostre uma tabela com os seguintes dados: valor da dívida, valor dos juros, quantidade de parcelas e valor da parcela. Os juros e a quantidade de parcelas seguem a tabela abaixo:\n",
    "\n",
    "###### Quantidade de Parcelas % de Juros sobre o valor inicial da dívida\n",
    "##### 1 0\n",
    "##### 3 10\n",
    "##### 6 15\n",
    "##### 9 20\n",
    "##### 12 25"
   ]
  },
  {
   "cell_type": "code",
   "execution_count": 9,
   "metadata": {},
   "outputs": [
    {
     "name": "stdout",
     "output_type": "stream",
     "text": [
      "Digite o valor da dívida (em R$): 1500.00\n",
      "Valor da Dívida | Valor dos Juros | Quantidade de Parcelas | Valor da Parcela\n",
      "R$ 1500.00\tR$ 0.00\t1\tR$ 1500.00\n",
      "R$ 1650.00\tR$ 150.00\t3\tR$ 550.00\n",
      "R$ 1725.00\tR$ 225.00\t6\tR$ 287.50\n",
      "R$ 1800.00\tR$ 300.00\t9\tR$ 200.00\n",
      "R$ 1875.00\tR$ 375.00\t12\tR$ 156.25\n"
     ]
    }
   ],
   "source": [
    "divida = float(input('Digite o valor da dívida (em R$): '))\n",
    "\n",
    "juros = 0\n",
    "print('Valor da Dívida | Valor dos Juros | Quantidade de Parcelas | Valor da Parcela')\n",
    "for i in [1, 3, 6, 9, 12]:\n",
    "    valor_juros = (divida * (juros / 100.0))\n",
    "    valor_divida = divida + valor_juros\n",
    "    valor_parcela = valor_divida / float(i)\n",
    "    print ('R$ %.2f\\tR$ %.2f\\t%i\\tR$ %.2f' %(valor_divida, valor_juros, i, valor_parcela))\n",
    "    if (i == 1):\n",
    "        juros = 10\n",
    "    else:\n",
    "        juros += 5"
   ]
  },
  {
   "cell_type": "markdown",
   "metadata": {},
   "source": [
    "### 25 - Faça um programa que mostre os n termos da Série a seguir:\n",
    "##### S = 1/1 + 2/3 + 3/5 + 4/7 + 5/9 + ... + n/m.\n",
    "#### Imprima no final a soma da série."
   ]
  },
  {
   "cell_type": "code",
   "execution_count": 10,
   "metadata": {},
   "outputs": [
    {
     "name": "stdout",
     "output_type": "stream",
     "text": [
      "Número de termos: 10\n",
      "Resultado: 6.07\n"
     ]
    }
   ],
   "source": [
    "termos = int(input(\"Número de termos: \"))\n",
    "\n",
    "soma = 0.0\n",
    "denominador = 1\n",
    "for i in range(1, termos + 1):\n",
    "    soma += i / denominador\n",
    "    denominador += 2\n",
    "\n",
    "print ('Resultado: %.2f' % soma)"
   ]
  },
  {
   "cell_type": "code",
   "execution_count": null,
   "metadata": {},
   "outputs": [],
   "source": []
  }
 ],
 "metadata": {
  "kernelspec": {
   "display_name": "Python 2",
   "language": "python",
   "name": "python2"
  },
  "language_info": {
   "codemirror_mode": {
    "name": "ipython",
    "version": 2
   },
   "file_extension": ".py",
   "mimetype": "text/x-python",
   "name": "python",
   "nbconvert_exporter": "python",
   "pygments_lexer": "ipython2",
   "version": "2.7.15"
  }
 },
 "nbformat": 4,
 "nbformat_minor": 2
}
